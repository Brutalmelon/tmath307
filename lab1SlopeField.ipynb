{
 "cells": [
  {
   "cell_type": "markdown",
   "metadata": {},
   "source": [
    "This lab plays with drawing slope fields with Python. For any first order DE $dy/dt = f(t,y)$, wether it is solvable by analytical methods or not, we can always obtain a lot of information of $dy/dt$ by plotting the right hand side function $f(t,y)$ in a slope field.  \n",
    "\n",
    "A slope field for $dy/dt = f(t,y)$ is a field of arrows of slope $f(t_i,y_i)$ thru each point $(t_i,y_i)$ on the $ty$-plane."
   ]
  },
  {
   "cell_type": "code",
   "execution_count": null,
   "metadata": {},
   "outputs": [],
   "source": [
    "## import packages \n",
    "import numpy as np\n",
    "import matplotlib.pyplot as plt\n",
    "from scipy import *\n",
    "from scipy import integrate\n",
    "from scipy.integrate import ode"
   ]
  },
  {
   "cell_type": "markdown",
   "metadata": {},
   "source": [
    "We first plot the slope field for the spruce-budworm equation (models population of some pests, with the effect of predation by birds)\n",
    "$$dy/dt=ry\\big(1-\\frac{y}{N}\\big)-\\frac{ay^2}{b^2+y^2}.$$\n",
    "Here $r,\\ N,\\ a,\\ b$ are parameters, and we take them to be $r=0.2,\\ N=1, a=0.3,\\ b=1$. "
   ]
  },
  {
   "cell_type": "code",
   "execution_count": null,
   "metadata": {},
   "outputs": [],
   "source": [
    "# define parameters: TypeError (to fix)\n",
    "#config = dict()\n",
    "#config['r'] = 0.2\n",
    "#config['N'] = 1\n",
    "#config['a'] = 0.3\n",
    "#config['b'] = 1\n",
    "\n",
    "#r = config['r']\n",
    "#N = config['N']\n",
    "#a = config['a']\n",
    "#b = config['b']\n"
   ]
  },
  {
   "cell_type": "code",
   "execution_count": null,
   "metadata": {},
   "outputs": [],
   "source": [
    "# define parameters\n",
    "r = 0.2\n",
    "N = 1\n",
    "a = 0.3\n",
    "b = 1"
   ]
  },
  {
   "cell_type": "code",
   "execution_count": null,
   "metadata": {},
   "outputs": [],
   "source": [
    "## define right hand side function \n",
    "\n",
    "def rhs(y):\n",
    "    return a*y*(1-y/N)-a*y**2/(b**2+y**2)    "
   ]
  },
  {
   "cell_type": "code",
   "execution_count": null,
   "metadata": {},
   "outputs": [],
   "source": [
    "## plot solution curves -- buggy (to fix)\n",
    "\n",
    "## ref https://stackoverflow.com/questions/18832763/drawing-directions-fields\n",
    "\n",
    "#t0=0; tEnd=10; dt=0.01;\n",
    "#r = ode(rhs).set_integrator('vode', method='bdf',max_step=dt)\n",
    "\n",
    "## initial conditions\n",
    "#ic=[[-3.5,-10], [-3,-10], [-2.5,-10]]\n",
    "\n",
    "\n",
    "#color=['r','b','g']\n",
    "#for k in range(len(ic)):\n",
    "#    Y=[];T=[];S=[];\n",
    "#    r.set_initial_value(ic[k], t0).set_f_params()\n",
    "#    while r.successful() and r.t +dt < tEnd:\n",
    "#        r.integrate(r.t+dt)\n",
    "#        Y.append(r.y)\n",
    "\n",
    "#    S=np.array(np.real(Y))\n",
    "#    ax.plot(S[:,0],S[:,1], color = color[k], lw = 1.25)"
   ]
  },
  {
   "cell_type": "code",
   "execution_count": null,
   "metadata": {},
   "outputs": [],
   "source": [
    "fig = plt.figure(num=1)\n",
    "ax=fig.add_subplot(111)\n",
    "ax.set_title('Slope field')\n",
    "\n",
    "## time spans from 0 to 30, total sample point is 20. \n",
    "t = np.linspace(0,30,20)\n",
    "y = np.linspace(0,1,20)\n",
    "T,Y = np.meshgrid(t,y)\n",
    "\n",
    "## define slope field\n",
    "U1 = 1\n",
    "V1 = a*Y*(1-Y/N)-a*Y**2/(b**2+Y**2)\n",
    "## normalize\n",
    "norm = np.sqrt(U1**2 + V1**2)\n",
    "U,V = U1/norm, V1/norm\n",
    "\n",
    "## plot\n",
    "ax.quiver(T, Y, U, V)\n",
    "plt.xlabel(r\"$t$\")\n",
    "plt.ylabel(r\"$y$\")\n",
    "plt.show()"
   ]
  },
  {
   "cell_type": "code",
   "execution_count": null,
   "metadata": {},
   "outputs": [],
   "source": [
    "############################# copy ref ##################################\n",
    "fig = plt.figure(num=1)\n",
    "ax=fig.add_subplot(111)\n",
    "\n",
    "## Vector field function\n",
    "def vf(t,x):\n",
    "  dx=np.zeros(2)\n",
    "  dx[0]=1\n",
    "  dx[1]=x[0]**2-x[0]-2\n",
    "  return dx\n",
    "\n",
    "#Solution curves\n",
    "t0=0; tEnd=10; dt=0.01;\n",
    "r = ode(vf).set_integrator('vode', method='bdf',max_step=dt)\n",
    "ic=[[-3.5,-10], [-3,-10], [-2.5,-10]]\n",
    "color=['r','b','g']\n",
    "for k in range(len(ic)):\n",
    "    Y=[];T=[];S=[];\n",
    "    r.set_initial_value(ic[k], t0).set_f_params()\n",
    "    while r.successful() and r.t +dt < tEnd:\n",
    "        r.integrate(r.t+dt)\n",
    "        Y.append(r.y)\n",
    "\n",
    "    S=np.array(np.real(Y))\n",
    "    ax.plot(S[:,0],S[:,1], color = color[k], lw = 1.25)\n",
    "\n",
    "#Vector field\n",
    "X,Y = np.meshgrid( np.linspace(-5,5,20),np.linspace(-10,10,20) )\n",
    "U = 1\n",
    "V = X**2-X-2\n",
    "#Normalize arrows\n",
    "N = np.sqrt(U**2+V**2)  \n",
    "U2, V2 = U/N, V/N\n",
    "ax.quiver( X,Y,U2, V2)\n",
    "\n",
    "\n",
    "plt.xlim([-5,5])\n",
    "plt.ylim([-10,10])\n",
    "plt.xlabel(r\"$x$\")\n",
    "plt.ylabel(r\"$y$\")\n",
    "plt.show()"
   ]
  },
  {
   "cell_type": "code",
   "execution_count": null,
   "metadata": {},
   "outputs": [],
   "source": []
  }
 ],
 "metadata": {
  "kernelspec": {
   "display_name": "Python 3",
   "language": "python",
   "name": "python3"
  },
  "language_info": {
   "codemirror_mode": {
    "name": "ipython",
    "version": 3
   },
   "file_extension": ".py",
   "mimetype": "text/x-python",
   "name": "python",
   "nbconvert_exporter": "python",
   "pygments_lexer": "ipython3",
   "version": "3.6.6"
  }
 },
 "nbformat": 4,
 "nbformat_minor": 2
}
