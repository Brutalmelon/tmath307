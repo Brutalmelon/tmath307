{
 "cells": [
  {
   "cell_type": "markdown",
   "metadata": {},
   "source": [
    "# This lab helps you get familiar with some basic python commands and packages frequently used in Differential equations"
   ]
  },
  {
   "cell_type": "code",
   "execution_count": 18,
   "metadata": {},
   "outputs": [],
   "source": [
    "# Run the cell to import packages and libraries. Please check the requirements for the correct version. We will be using Python3\n",
    "# numpy for numerical computation; scipy for scientific computation; matplotlib for visualization\n",
    "import numpy as np\n",
    "#import scipy as sp\n",
    "from scipy.integrate import odeint\n",
    "import matplotlib.pyplot as plt\n",
    "\n",
    "# run the cell, and you will notice nothin happens. But the packages have been imported."
   ]
  },
  {
   "cell_type": "markdown",
   "metadata": {},
   "source": [
    "## We will get familiar with some basic commands in Python: \"Hello World\""
   ]
  },
  {
   "cell_type": "code",
   "execution_count": 19,
   "metadata": {},
   "outputs": [],
   "source": [
    "#  Uncomment below then run the cell to print Hello World\n",
    "#print(\"Hello World\")"
   ]
  },
  {
   "cell_type": "code",
   "execution_count": 20,
   "metadata": {},
   "outputs": [],
   "source": [
    "# We will use some basic commands in numpy and scipy \n",
    "x = np.sin(np.pi)\n",
    "# you can print the result by typing the variable name. For example, print x by typing x in the next line, then\n",
    "# run the cell"
   ]
  },
  {
   "cell_type": "code",
   "execution_count": 21,
   "metadata": {},
   "outputs": [],
   "source": [
    "# compute addition, subtraction, multiplication, and division with Numpy\n",
    "\n",
    "y = 2 + np.pi\n",
    "z = y - x # x as previously defined\n",
    "w1 = y * z \n",
    "w2 = y/x"
   ]
  },
  {
   "cell_type": "markdown",
   "metadata": {},
   "source": [
    "## Here we compute definite integral with a scipy command; Google \"quad\" in scipy, and document your finding as comments in the cell below."
   ]
  },
  {
   "cell_type": "code",
   "execution_count": 22,
   "metadata": {},
   "outputs": [],
   "source": [
    "# ref: https://docs.scipy.org/doc/scipy/reference/generated/scipy.integrate.odeint.html\n",
    " \n",
    "#### Need to fix"
   ]
  },
  {
   "cell_type": "code",
   "execution_count": 23,
   "metadata": {},
   "outputs": [],
   "source": [
    "# Type in/copy and paste your search result of 'quad'"
   ]
  },
  {
   "cell_type": "code",
   "execution_count": null,
   "metadata": {},
   "outputs": [],
   "source": []
  },
  {
   "cell_type": "code",
   "execution_count": null,
   "metadata": {},
   "outputs": [],
   "source": []
  }
 ],
 "metadata": {
  "kernelspec": {
   "display_name": "Python 3",
   "language": "python",
   "name": "python3"
  },
  "language_info": {
   "codemirror_mode": {
    "name": "ipython",
    "version": 3
   },
   "file_extension": ".py",
   "mimetype": "text/x-python",
   "name": "python",
   "nbconvert_exporter": "python",
   "pygments_lexer": "ipython3",
   "version": "3.6.8"
  }
 },
 "nbformat": 4,
 "nbformat_minor": 2
}
